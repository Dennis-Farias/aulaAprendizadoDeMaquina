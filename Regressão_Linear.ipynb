{
  "nbformat": 4,
  "nbformat_minor": 0,
  "metadata": {
    "colab": {
      "provenance": [],
      "authorship_tag": "ABX9TyMx5/ckBgk+6Hs9ZE5JRzpb",
      "include_colab_link": true
    },
    "kernelspec": {
      "name": "python3",
      "display_name": "Python 3"
    },
    "language_info": {
      "name": "python"
    }
  },
  "cells": [
    {
      "cell_type": "markdown",
      "metadata": {
        "id": "view-in-github",
        "colab_type": "text"
      },
      "source": [
        "<a href=\"https://colab.research.google.com/github/Dennis-Farias/aulaAprendizadoDeMaquina/blob/main/Regress%C3%A3o_Linear.ipynb\" target=\"_parent\"><img src=\"https://colab.research.google.com/assets/colab-badge.svg\" alt=\"Open In Colab\"/></a>"
      ]
    },
    {
      "cell_type": "code",
      "source": [
        "# Importação das bibliotecas\n",
        "import pandas as pd\n",
        "import numpy as np\n",
        "from sklearn import datasets\n",
        "from sklearn.model_selection import train_test_split\n",
        "from sklearn import linear_model\n",
        "from sklearn.metrics import accuracy_score, r2_score, mean_squared_error\n",
        "from matplotlib import pyplot as plt"
      ],
      "metadata": {
        "id": "r0UyX9yjo00W"
      },
      "execution_count": 6,
      "outputs": []
    },
    {
      "cell_type": "code",
      "source": [
        "# Carrega o dataset wine-red\n",
        "wr = pd.read_csv('winequality-red.csv', sep=';')"
      ],
      "metadata": {
        "id": "Cop-4GoTpCwH",
        "collapsed": true
      },
      "execution_count": 32,
      "outputs": []
    },
    {
      "cell_type": "code",
      "source": [
        "wr.head()"
      ],
      "metadata": {
        "id": "lCJz-prWqWLm"
      },
      "execution_count": null,
      "outputs": []
    },
    {
      "cell_type": "code",
      "source": [
        "# Separar Features dos Target\n",
        "X = wr.drop('quality', axis=1) # Features\n",
        "y = wr['quality'] # Target / Label"
      ],
      "metadata": {
        "id": "w1Iuxr6hqxkQ"
      },
      "execution_count": 34,
      "outputs": []
    },
    {
      "cell_type": "code",
      "source": [
        "# Divide os dados em conjuntos de treino e teste\n",
        "X_train, X_test, y_train, y_test = train_test_split(X, y, test_size=0.3)"
      ],
      "metadata": {
        "id": "YSrdr5GBpMqK"
      },
      "execution_count": 35,
      "outputs": []
    },
    {
      "cell_type": "code",
      "source": [
        "# Cria o modelo de regressão logística\n",
        "reg = linear_model.LinearRegression()\n",
        "\n",
        "# Treina o modelo\n",
        "reg.fit(X_train, y_train)"
      ],
      "metadata": {
        "id": "ns7HjV6Zpcv9"
      },
      "execution_count": null,
      "outputs": []
    },
    {
      "cell_type": "code",
      "source": [
        "# Gráfico para visualização dos dados e da função\n",
        "plt.scatter(X_train['pH'], y_train, color='blue', label='Treino')\n",
        "plt.scatter(X_test['pH'], y_test, color='green', label='Teste')\n",
        "#plt.plot(X_train['pH'], reg.predict(X_train), color='red')\n",
        "plt.title('Qualidade das amostras de vinho')\n",
        "plt.xlabel('pH')\n",
        "plt.ylabel('quality')\n",
        "plt.show()"
      ],
      "metadata": {
        "id": "HkHoFTTAsaWU"
      },
      "execution_count": null,
      "outputs": []
    },
    {
      "cell_type": "code",
      "source": [
        "# Faz previsões no conjunto de teste\n",
        "y_pred = reg.predict(X_test)\n",
        "\n",
        "# Avalia o R2 do modelo\n",
        "print(\"MSE Train: \", mean_squared_error(y_test, y_pred))\n",
        "print(\"R2 Test: \", r2_score(y_test, y_pred))\n",
        "print(\"R2 Train: \", reg.score(X_train, y_train))"
      ],
      "metadata": {
        "id": "1zEj6mxQpjzg"
      },
      "execution_count": null,
      "outputs": []
    },
    {
      "cell_type": "code",
      "source": [
        "print(\"Slope: \", reg.coef_)\n",
        "print(\"Bias: \", reg.intercept_)"
      ],
      "metadata": {
        "id": "dXVU3DLIwIm5"
      },
      "execution_count": null,
      "outputs": []
    }
  ]
}